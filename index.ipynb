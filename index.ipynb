{
 "cells": [
  {
   "attachments": {},
   "cell_type": "markdown",
   "metadata": {},
   "source": [
    "# Website A/B Testing - Lab\n",
    "\n",
    "## Introduction\n",
    "\n",
    "In this lab, you'll get another chance to practice your skills at conducting a full A/B test analysis. It will also be a chance to practice your data exploration and processing skills! The scenario you'll be investigating is data collected from the homepage of a music app page for audacity.\n",
    "\n",
    "## Objectives\n",
    "\n",
    "You will be able to:\n",
    "* Analyze the data from a website A/B test to draw relevant conclusions\n",
    "* Explore and analyze web action data"
   ]
  },
  {
   "attachments": {},
   "cell_type": "markdown",
   "metadata": {},
   "source": [
    "## Exploratory Analysis\n",
    "\n",
    "Start by loading in the dataset stored in the file 'homepage_actions.csv'. Then conduct an exploratory analysis to get familiar with the data."
   ]
  },
  {
   "attachments": {},
   "cell_type": "markdown",
   "metadata": {},
   "source": [
    "> Hints:\n",
    "    * Start investigating the id column:\n",
    "        * How many viewers also clicked?\n",
    "        * Are there any anomalies with the data; did anyone click who didn't view?\n",
    "        * Is there any overlap between the control and experiment groups? \n",
    "            * If so, how do you plan to account for this in your experimental design?"
   ]
  },
  {
   "cell_type": "code",
   "execution_count": 15,
   "metadata": {},
   "outputs": [
    {
     "name": "stdout",
     "output_type": "stream",
     "text": [
      "<class 'pandas.core.frame.DataFrame'>\n",
      "RangeIndex: 8188 entries, 0 to 8187\n",
      "Data columns (total 4 columns):\n",
      " #   Column     Non-Null Count  Dtype \n",
      "---  ------     --------------  ----- \n",
      " 0   timestamp  8188 non-null   object\n",
      " 1   id         8188 non-null   int64 \n",
      " 2   group      8188 non-null   object\n",
      " 3   action     8188 non-null   object\n",
      "dtypes: int64(1), object(3)\n",
      "memory usage: 256.0+ KB\n",
      "None\n",
      "                    timestamp      id       group action\n",
      "0  2016-09-24 17:42:27.839496  804196  experiment   view\n",
      "1  2016-09-24 19:19:03.542569  434745  experiment   view\n",
      "2  2016-09-24 19:36:00.944135  507599  experiment   view\n",
      "3  2016-09-24 19:59:02.646620  671993     control   view\n",
      "4  2016-09-24 20:26:14.466886  536734  experiment   view\n",
      "Total unique users: 6328\n",
      "action\n",
      "view     6328\n",
      "click    1860\n",
      "Name: count, dtype: int64\n",
      "Users who clicked without viewing: 0\n",
      "group\n",
      "control       4264\n",
      "experiment    3924\n",
      "Name: count, dtype: int64\n",
      "Users appearing in both groups: 0\n"
     ]
    }
   ],
   "source": [
    "#Your code here\n",
    "import pandas as pd\n",
    "from statsmodels.stats.proportion import proportions_ztest\n",
    "import scipy.stats as stats\n",
    "import numpy as np\n",
    "\n",
    "# Load the dataset\n",
    "df = pd.read_csv('homepage_actions.csv')\n",
    "\n",
    "# Display basic information\n",
    "print(df.info())\n",
    "print(df.head())\n",
    "\n",
    "# Unique users count\n",
    "print(f\"Total unique users: {df['id'].nunique()}\")\n",
    "\n",
    "# Action counts\n",
    "print(df['action'].value_counts())\n",
    "\n",
    "# Check if any users clicked without viewing\n",
    "viewers = df[df['action'] == 'view']['id'].unique()\n",
    "clicks_without_views = df[(df['action'] == 'click') & (~df['id'].isin(viewers))]\n",
    "print(f\"Users who clicked without viewing: {clicks_without_views['id'].nunique()}\")\n",
    "\n",
    "# Control vs. Experiment group distribution\n",
    "print(df['group'].value_counts())\n",
    "\n",
    "# Check for users appearing in both groups\n",
    "user_groups = df.groupby('id')['group'].nunique()\n",
    "overlap_users = user_groups[user_groups > 1]\n",
    "print(f\"Users appearing in both groups: {overlap_users.count()}\")\n",
    "\n",
    "# Display some overlapping user examples (if any)\n",
    "if not overlap_users.empty:\n",
    "    print(df[df['id'].isin(overlap_users.index)].head(10))"
   ]
  },
  {
   "attachments": {},
   "cell_type": "markdown",
   "metadata": {},
   "source": [
    "## Conduct a Statistical Test\n",
    "\n",
    "Conduct a statistical test to determine whether the experimental homepage was more effective than that of the control group."
   ]
  },
  {
   "cell_type": "code",
   "execution_count": 16,
   "metadata": {},
   "outputs": [
    {
     "name": "stdout",
     "output_type": "stream",
     "text": [
      "Chi-Squared Statistic: 6.7129\n",
      "P-value: 0.0096\n",
      "Reject the null hypothesis: The experimental homepage had a significant effect.\n"
     ]
    }
   ],
   "source": [
    "#Your code here\n",
    "# Pivot data to create a contingency table\n",
    "contingency_table = pd.crosstab(df['group'], df['action'])\n",
    "\n",
    "# Extract values: views and clicks for each group\n",
    "clicks_control = contingency_table.loc['control', 'click']\n",
    "views_control = contingency_table.loc['control', 'view']\n",
    "clicks_experiment = contingency_table.loc['experiment', 'click']\n",
    "views_experiment = contingency_table.loc['experiment', 'view']\n",
    "\n",
    "# Create a contingency matrix\n",
    "contingency_matrix = [[clicks_control, views_control - clicks_control], \n",
    "                      [clicks_experiment, views_experiment - clicks_experiment]]\n",
    "\n",
    "# Perform Chi-Squared test\n",
    "chi2, p, dof, expected = stats.chi2_contingency(contingency_matrix)\n",
    "\n",
    "# Print results\n",
    "print(f\"Chi-Squared Statistic: {chi2:.4f}\")\n",
    "print(f\"P-value: {p:.4f}\")\n",
    "\n",
    "# Interpret the results\n",
    "alpha = 0.05\n",
    "if p < alpha:\n",
    "    print(\"Reject the null hypothesis: The experimental homepage had a significant effect.\")\n",
    "else:\n",
    "    print(\"Fail to reject the null hypothesis: No significant difference between the two pages.\")\n"
   ]
  },
  {
   "attachments": {},
   "cell_type": "markdown",
   "metadata": {},
   "source": [
    "## Verifying Results\n",
    "\n",
    "One sensible formulation of the data to answer the hypothesis test above would be to create a binary variable representing each individual in the experiment and control group. This binary variable would represent whether or not that individual clicked on the homepage; 1 for they did and 0 if they did not. \n",
    "\n",
    "The variance for the number of successes in a sample of a binomial variable with n observations is given by:\n",
    "\n",
    "## $n\\bullet p (1-p)$\n",
    "\n",
    "Given this, perform 3 steps to verify the results of your statistical test:\n",
    "1. Calculate the expected number of clicks for the experiment group, if it had the same click-through rate as that of the control group. \n",
    "2. Calculate the number of standard deviations that the actual number of clicks was from this estimate. \n",
    "3. Finally, calculate a p-value using the normal distribution based on this z-score."
   ]
  },
  {
   "attachments": {},
   "cell_type": "markdown",
   "metadata": {},
   "source": [
    "### Step 1:\n",
    "Calculate the expected number of clicks for the experiment group, if it had the same click-through rate as that of the control group. "
   ]
  },
  {
   "cell_type": "code",
   "execution_count": 17,
   "metadata": {},
   "outputs": [
    {
     "name": "stdout",
     "output_type": "stream",
     "text": [
      "Control Group CTR: 0.2797\n",
      "Expected Clicks in Experiment Group: 838.02\n",
      "Actual Clicks in Experiment Group: 928\n"
     ]
    }
   ],
   "source": [
    "#Your code here\n",
    "# Get total users per group\n",
    "control_users = df[df['group'] == 'control']['id'].nunique()\n",
    "experiment_users = df[df['group'] == 'experiment']['id'].nunique()\n",
    "\n",
    "# Get number of clicks per group\n",
    "control_clicks = df[(df['group'] == 'control') & (df['action'] == 'click')]['id'].nunique()\n",
    "experiment_clicks = df[(df['group'] == 'experiment') & (df['action'] == 'click')]['id'].nunique()\n",
    "\n",
    "# Calculate click-through rate for control group\n",
    "ctr_control = control_clicks / control_users\n",
    "\n",
    "# Calculate expected clicks in the experiment group\n",
    "expected_experiment_clicks = ctr_control * experiment_users\n",
    "\n",
    "print(f\"Control Group CTR: {ctr_control:.4f}\")\n",
    "print(f\"Expected Clicks in Experiment Group: {expected_experiment_clicks:.2f}\")\n",
    "print(f\"Actual Clicks in Experiment Group: {experiment_clicks}\")"
   ]
  },
  {
   "attachments": {},
   "cell_type": "markdown",
   "metadata": {},
   "source": [
    "### Step 2:\n",
    "Calculate the number of standard deviations that the actual number of clicks was from this estimate."
   ]
  },
  {
   "cell_type": "code",
   "execution_count": 18,
   "metadata": {},
   "outputs": [
    {
     "name": "stdout",
     "output_type": "stream",
     "text": [
      "Standard Deviation: 24.5685\n",
      "Z-score: 3.6625\n"
     ]
    }
   ],
   "source": [
    "#Your code here\n",
    "# Calculate variance and standard deviation\n",
    "variance = experiment_users * ctr_control * (1 - ctr_control)\n",
    "std_dev = np.sqrt(variance)\n",
    "\n",
    "# Compute Z-score\n",
    "z_score = (experiment_clicks - expected_experiment_clicks) / std_dev\n",
    "\n",
    "print(f\"Standard Deviation: {std_dev:.4f}\")\n",
    "print(f\"Z-score: {z_score:.4f}\")"
   ]
  },
  {
   "attachments": {},
   "cell_type": "markdown",
   "metadata": {},
   "source": [
    "### Step 3: \n",
    "Finally, calculate a p-value using the normal distribution based on this z-score."
   ]
  },
  {
   "cell_type": "code",
   "execution_count": 19,
   "metadata": {},
   "outputs": [
    {
     "name": "stdout",
     "output_type": "stream",
     "text": [
      "P-value: 0.0002\n",
      "Reject the null hypothesis: The experimental homepage had a significant effect.\n"
     ]
    }
   ],
   "source": [
    "#Your code here\n",
    "from scipy.stats import norm\n",
    "\n",
    "# Calculate p-value from the z-score\n",
    "p_value = 2 * norm.sf(abs(z_score))\n",
    "\n",
    "print(f\"P-value: {p_value:.4f}\")\n",
    "\n",
    "# Interpretation\n",
    "alpha = 0.05\n",
    "if p_value < alpha:\n",
    "    print(\"Reject the null hypothesis: The experimental homepage had a significant effect.\")\n",
    "else:\n",
    "    print(\"Fail to reject the null hypothesis: No significant difference between the two pages.\")"
   ]
  },
  {
   "attachments": {},
   "cell_type": "markdown",
   "metadata": {},
   "source": [
    "### Analysis:\n",
    "\n",
    "Does this result roughly match that of the previous statistical test?\n",
    "\n",
    "> Comment: **Your analysis here**"
   ]
  },
  {
   "cell_type": "code",
   "execution_count": 20,
   "metadata": {},
   "outputs": [
    {
     "name": "stdout",
     "output_type": "stream",
     "text": [
      "Chi-Squared Test p-value: 0.0096\n",
      "Z-Test p-value: 0.0002\n",
      "Both tests agree: The experimental homepage had a significant effect.\n"
     ]
    }
   ],
   "source": [
    "# Step 1: Calculate click-through rates\n",
    "control_users = df[df['group'] == 'control']['id'].nunique()\n",
    "experiment_users = df[df['group'] == 'experiment']['id'].nunique()\n",
    "control_clicks = df[(df['group'] == 'control') & (df['action'] == 'click')]['id'].nunique()\n",
    "experiment_clicks = df[(df['group'] == 'experiment') & (df['action'] == 'click')]['id'].nunique()\n",
    "\n",
    "ctr_control = control_clicks / control_users\n",
    "expected_experiment_clicks = ctr_control * experiment_users\n",
    "\n",
    "# Step 2: Chi-Squared Test\n",
    "contingency_matrix = [[control_clicks, control_users - control_clicks], \n",
    "                      [experiment_clicks, experiment_users - experiment_clicks]]\n",
    "chi2, p_chi2, dof, expected = stats.chi2_contingency(contingency_matrix)\n",
    "\n",
    "# Step 3: Z-Test using binomial variance\n",
    "variance = experiment_users * ctr_control * (1 - ctr_control)\n",
    "std_dev = np.sqrt(variance)\n",
    "z_score = (experiment_clicks - expected_experiment_clicks) / std_dev\n",
    "p_z = 2 * stats.norm.sf(abs(z_score))\n",
    "\n",
    "# Print results\n",
    "print(f\"Chi-Squared Test p-value: {p_chi2:.4f}\")\n",
    "print(f\"Z-Test p-value: {p_z:.4f}\")\n",
    "\n",
    "# Interpretation\n",
    "alpha = 0.05\n",
    "if p_chi2 < alpha and p_z < alpha:\n",
    "    print(\"Both tests agree: The experimental homepage had a significant effect.\")\n",
    "elif p_chi2 >= alpha and p_z >= alpha:\n",
    "    print(\"Both tests agree: No significant difference between the two pages.\")\n",
    "else:\n",
    "    print(\"Results are inconsistent. Further investigation is needed.\")"
   ]
  },
  {
   "attachments": {},
   "cell_type": "markdown",
   "metadata": {},
   "source": [
    "## Summary\n",
    "\n",
    "In this lab, you continued to get more practice designing and conducting AB tests. This required additional work preprocessing and formulating the initial problem in a suitable manner. Additionally, you also saw how to verify results, strengthening your knowledge of binomial variables, and reviewing initial statistical concepts of the central limit theorem, standard deviation, z-scores, and their accompanying p-values."
   ]
  }
 ],
 "metadata": {
  "kernelspec": {
   "display_name": "Python 3",
   "language": "python",
   "name": "python3"
  },
  "language_info": {
   "codemirror_mode": {
    "name": "ipython",
    "version": 3
   },
   "file_extension": ".py",
   "mimetype": "text/x-python",
   "name": "python",
   "nbconvert_exporter": "python",
   "pygments_lexer": "ipython3",
   "version": "3.11.7"
  }
 },
 "nbformat": 4,
 "nbformat_minor": 2
}
